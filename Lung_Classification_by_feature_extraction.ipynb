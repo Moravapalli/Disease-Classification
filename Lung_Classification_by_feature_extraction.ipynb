{
 "cells": [
  {
   "cell_type": "code",
   "execution_count": null,
   "metadata": {
    "colab": {
     "base_uri": "https://localhost:8080/"
    },
    "id": "dbxsx3KEReFC",
    "outputId": "30bc67b4-ab9f-435d-c874-c915cdcd96ad"
   },
   "outputs": [],
   "source": [
    "#mount drive\n",
    "%cd ..\n",
    "from google.colab import drive\n",
    "drive.mount('/content/gdrive')\n",
    "\n",
    "# this creates a symbolic link so that now the path /content/gdrive/My\\ Drive/ is equal to /mydrive\n",
    "!ln -s /content/gdrive/My\\ Drive/ /mydrive\n",
    "\n",
    "# list the contents of /mydrive\n",
    "!ls /mydrive\n"
   ]
  },
  {
   "cell_type": "code",
   "execution_count": null,
   "metadata": {
    "colab": {
     "base_uri": "https://localhost:8080/"
    },
    "id": "cs9CvzGDS1Ud",
    "outputId": "ad04b1d3-f655-42f4-8935-0b3f3bebeb95"
   },
   "outputs": [],
   "source": [
    "%cd /mydrive/Data/\n",
    "!pwd\n",
    "#!unzip \"/mydrive/Data/train.zip\" -d \"/mydrive/Data/train_images\"\n",
    "#!unzip \"/mydrive/Data/test.zip\" -d \"/mydrive/Data/test_images\""
   ]
  },
  {
   "cell_type": "code",
   "execution_count": null,
   "metadata": {
    "id": "xhlCpu3XUL1f"
   },
   "outputs": [],
   "source": [
    "import os\n",
    "import random\n",
    "import numpy as np\n",
    "import matplotlib.pyplot as plt\n",
    "%matplotlib inline\n",
    "#import PIL\n",
    "from PIL import Image\n",
    "import cv2\n",
    "import pandas as pd\n",
    "import sklearn\n",
    "from sklearn import model_selection\n",
    "from sklearn.metrics import accuracy_score, balanced_accuracy_score , precision_recall_curve, precision_score \n",
    "from sklearn.svm import SVC\n",
    "import skimage\n",
    "from skimage.io import imread, imshow\n",
    "import seaborn as sns\n",
    "from tqdm import tqdm"
   ]
  },
  {
   "cell_type": "code",
   "execution_count": null,
   "metadata": {
    "colab": {
     "base_uri": "https://localhost:8080/"
    },
    "id": "Nm6hzIBPU3Tw",
    "outputId": "9c2e1c0f-8f72-4481-c905-c7c5da6bb306"
   },
   "outputs": [],
   "source": [
    "path = \"/content/gdrive/MyDrive/Data/train_images\"\n",
    "data = pd.read_csv(\"/content/gdrive/MyDrive/Data/train.txt\",sep=\" \" , names=['Image_Name', 'Label'])\n",
    "#print(data[0], data[1])\n",
    "#data = pd.DataFrame(data)\n",
    "print(data['Label'].value_counts())\n"
   ]
  },
  {
   "cell_type": "code",
   "execution_count": null,
   "metadata": {
    "colab": {
     "base_uri": "https://localhost:8080/",
     "height": 140
    },
    "id": "l58tvi83zrnB",
    "outputId": "55879799-3652-4973-8b6c-90f87e4b2f74"
   },
   "outputs": [],
   "source": [
    "\n",
    "#Labelencoding\n",
    "from sklearn.preprocessing import LabelEncoder\n",
    "#from sklearn.preprocessing import OneHotEncoder\n",
    "\n",
    "# creating instance of labelencoder\n",
    "labelencoder = LabelEncoder()\n",
    "#Assigning numerical values and storing in another column\n",
    "data['Label'] = labelencoder.fit_transform(data['Label'])\n",
    "print(labelencoder.classes_)\n",
    "print(data['Label'].value_counts())\n",
    "\n",
    "\n",
    "# creating instance of one-hot-encoder\n",
    "'''enc = OneHotEncoder(handle_unknown='ignore')\n",
    "enc_df = pd.DataFrame(enc.fit_transform(data[['Label']]).toarray())\n",
    "data = data.join(enc_df)\n",
    "data'''"
   ]
  },
  {
   "cell_type": "code",
   "execution_count": null,
   "metadata": {
    "colab": {
     "base_uri": "https://localhost:8080/"
    },
    "id": "pKCl0nLifhVS",
    "outputId": "8202bed7-b5d5-48a7-aff7-d2ce766081f2"
   },
   "outputs": [],
   "source": [
    "import os\n",
    "\n",
    "images = []\n",
    "labels = []\n",
    "\n",
    "for x in data['Image_Name']:\n",
    "  images.append(x)\n",
    "\n",
    "for y in data['Label']:\n",
    "  labels.append(y)\n",
    "#images.append(data[0])\n",
    "#labels.append(data[1])\n",
    "print(images,labels)\n",
    "#print(images[0][0])\n",
    "\n",
    "\n"
   ]
  },
  {
   "cell_type": "code",
   "execution_count": null,
   "metadata": {
    "colab": {
     "base_uri": "https://localhost:8080/",
     "height": 825
    },
    "id": "V9E5unF2gJyP",
    "outputId": "83160e46-549e-40b2-f52d-ca84f77af50c"
   },
   "outputs": [],
   "source": [
    "train_path = \"/content/gdrive/MyDrive/Data/train_images/train/\"\n",
    "count = 0\n",
    "\n",
    "plt.figure(figsize=(12,12))\n",
    "\n",
    "for i in range(10000,10006):\n",
    "  #print(count)\n",
    "  #print(image)\n",
    "  count+=1\n",
    "  \n",
    "  train_image_path = os.path.join(train_path,images[i])\n",
    "  #print(image)\n",
    "  print(train_image_path)\n",
    "  image = imread(train_image_path)\n",
    "  #imshow(image)\n",
    "  #im = Image.open(train_image_path)\n",
    "  #width, height = image.size\n",
    "  #print(width,height)\n",
    "  shape = image.shape\n",
    "  print(shape)\n",
    "  plt.subplot(2,3,count)\n",
    "  plt.title(labels[i])\n",
    "  plt.imshow(image)\n",
    "  #print(image)\n",
    "  \n",
    "\n"
   ]
  },
  {
   "cell_type": "code",
   "execution_count": null,
   "metadata": {
    "colab": {
     "base_uri": "https://localhost:8080/"
    },
    "id": "sDyNDNV_kD9O",
    "outputId": "3572e6e1-1cd8-4291-a6e1-92f59d467d3f"
   },
   "outputs": [],
   "source": [
    "#df = pd.DataFrame(data)\n",
    "data.groupby('Label').size()"
   ]
  },
  {
   "cell_type": "code",
   "execution_count": null,
   "metadata": {
    "id": "EUsSuG2kbbRD"
   },
   "outputs": [],
   "source": [
    "#Data augmentation\n"
   ]
  },
  {
   "cell_type": "code",
   "execution_count": null,
   "metadata": {
    "colab": {
     "base_uri": "https://localhost:8080/"
    },
    "id": "JmIMyOIwvVr9",
    "outputId": "f06e0514-c1f3-41ef-a0b1-b6c18368add8"
   },
   "outputs": [],
   "source": [
    "#Feature extraction\n",
    "from skimage import io\n",
    "import glob\n",
    "from skimage.color import rgb2gray\n",
    "from skimage import feature\n",
    "from skimage.feature import local_binary_pattern\n",
    "#import zip\n",
    "\n",
    "train_image_path = []\n",
    "for i in range(16929):\n",
    "  train_image_path.append(os.path.join(train_path,images[i]))\n",
    "print((train_image_path))"
   ]
  },
  {
   "cell_type": "code",
   "execution_count": null,
   "metadata": {
    "colab": {
     "base_uri": "https://localhost:8080/"
    },
    "id": "32y44hE3uqIT",
    "outputId": "6a6dca2d-c5ef-415d-96b6-5ddd62f3a9a4"
   },
   "outputs": [],
   "source": [
    "#Feature extraction\n",
    "from skimage import io\n",
    "import glob\n",
    "from skimage.color import rgb2gray\n",
    "from skimage import feature\n",
    "from skimage.feature import local_binary_pattern\n",
    "#import zip\n",
    "from skimage.filters import roberts, sobel\n",
    "from sklearn import preprocessing\n",
    "\n",
    "class LocalBinaryPatterns:\n",
    "\n",
    "\tdef __init__(self, numPoints, radius):\n",
    "\t\t# store the number of points and radius\n",
    "\t\tself.numPoints = numPoints\n",
    "\t\tself.radius = radius\n",
    "\n",
    "\tdef describe(self, image, eps=1e-7):\n",
    "\t\t# compute the Local Binary Pattern representation\n",
    "\t\t# of the image, and then use the LBP representation\n",
    "\t\t# to build the histogram of patterns\n",
    "\n",
    "\t\tlbp = feature.local_binary_pattern(image, self.numPoints,\n",
    "\t\t\tself.radius, method=\"uniform\")\n",
    "\t\t#print(lbp)\n",
    "\t\t(hist, _) = np.histogram(lbp.ravel(),\n",
    "\t\t\tbins=np.arange(0, self.numPoints + 3),\n",
    "\t\t\trange=(0, self.numPoints + 2))\n",
    "\t\n",
    "\t\t# normalize the histogram\n",
    "\t\thist = hist.astype(\"float\")\n",
    "\t\t#hist /= (hist.sum() + eps)\n",
    "\t\t# return the histogram of Local Binary Patterns\n",
    "\t\treturn lbp,hist\n",
    "\n",
    "lbp_imgs = []\n",
    "\n",
    "for i in tqdm(train_image_path[0:16929:1000]):\n",
    "  #print(train_image_path.index(i))\n",
    "  count +=1\n",
    "\n",
    "  image = io.imread(i)\n",
    "  image = rgb2gray(image)\n",
    "  \n",
    "  desc = LocalBinaryPatterns(8, 1)\n",
    "  hist = desc.describe(image)\n",
    "  #print(hist)\n",
    "  lbp_imgs.append(hist)\n",
    "#print(lbp_imgs)\n"
   ]
  },
  {
   "cell_type": "code",
   "execution_count": null,
   "metadata": {
    "colab": {
     "base_uri": "https://localhost:8080/"
    },
    "id": "knRVP6U9hhBm",
    "outputId": "a5e845d2-753e-432d-dd2d-79864f2f1313"
   },
   "outputs": [],
   "source": [
    "#Feature extraction\n",
    "from skimage import io\n",
    "import glob\n",
    "from skimage.color import rgb2gray\n",
    "from skimage import feature\n",
    "from skimage.filters.rank import entropy\n",
    "from skimage.feature import local_binary_pattern\n",
    "from sklearn import preprocessing\n",
    "from scipy.stats import skew, kurtosis,norm\n",
    "from statsmodels import robust\n",
    "\n",
    "#lbp_imgs = []\n",
    "image_reshape = []\n",
    "labels_sub = []\n",
    "df_lbp= pd.DataFrame()\n",
    "\n",
    "for i in tqdm(train_image_path[0:16929:1000]):\n",
    "  #print(train_image_path.index(i))\n",
    "  count +=1\n",
    "\n",
    "  df = pd.DataFrame() # temp dataframe\n",
    "\n",
    "  image = io.imread(i)\n",
    "  image = rgb2gray(image)\n",
    "  original_pixel_value = np.array(image.reshape(-1))\n",
    "  image_reshape.append(original_pixel_value)\n",
    "  labels_sub.append(labels[train_image_path.index(i)])\n",
    "  \n",
    "  desc2 = LocalBinaryPatterns(8, 2)\n",
    "  lbp2,hist2 = desc2.describe(image) #lbp extraction\n",
    "  '''desc3 = LocalBinaryPatterns(8, 3)\n",
    "  lbp3,hist3 = desc3.describe(image)\n",
    "  desc5 = LocalBinaryPatterns(8,5)\n",
    "  lbp5,hist5 = desc5.describe(image)\n",
    "  desc9 = LocalBinaryPatterns(8,9)\n",
    "  lbp9,hist9 = desc9.describe(image)'''\n",
    "\n",
    "  lbp2_mean =[]\n",
    "  lbp2_std = []\n",
    "  lbp2_median = []\n",
    "  lbp2_max = []\n",
    "  lbp2_min = []\n",
    "  lbp2_skew = []\n",
    "  lbp2_kurtosis = []\n",
    "  lbp2_mad = []\n",
    "  lbp2_range = []\n",
    "\n",
    "  lbp2_mean.append(np.mean(lbp2))  #appending to dataframe\n",
    "  df[\"lbp2_mean\"] = lbp2_mean\n",
    "  #print(lbp2_mean)\n",
    "\n",
    "  lbp2_std.append(np.std(lbp2))\n",
    "  df[\"lbp2_std\"] = lbp2_std\n",
    "\n",
    "  lbp2_median.append(np.median(lbp2))\n",
    "  df[\"lbp2_median\"] = lbp2_median\n",
    "\n",
    "  lbp2_max.append(np.max(lbp2))\n",
    "  df[\"lbp2_max\"] = lbp2_max\n",
    "\n",
    "  lbp2_skew.append(skew(hist2))\n",
    "  df[\"lbp2_skew\"] = lbp2_std\n",
    "\n",
    "  lbp2_kurtosis.append(kurtosis(hist2))\n",
    "  df[\"lbp2_kurtosis\"] = lbp2_kurtosis\n",
    "\n",
    "  lbp2_range.append(np.ptp(lbp2))\n",
    "  df[\"lbp2_range\"] = lbp2_range\n",
    "\n",
    "\n",
    "  df_lbp = df_lbp.append(df,ignore_index=True) #append to fial dataframe that has to be given to classifier\n",
    "\n",
    "print(df_lbp)\n",
    "\n"
   ]
  },
  {
   "cell_type": "code",
   "execution_count": null,
   "metadata": {
    "id": "EIMoKs0iiW1l"
   },
   "outputs": [],
   "source": [
    "df_final = pd.DataFrame()\n",
    "df_final = df_final.append(df_lbp)\n",
    "df_final['labels'] = labels_sub\n",
    "#print(df_final)\n"
   ]
  },
  {
   "cell_type": "code",
   "execution_count": null,
   "metadata": {
    "id": "98CkHJ3L4jn2"
   },
   "outputs": [],
   "source": [
    "#X= np.asarray(df_final[:-1], dtype = object)\n",
    "X= df_final.iloc[: , :-1]\n",
    "#print(X)\n",
    "y = df_final['labels']\n",
    "#y = np.asarray(df_final['labels'])\n",
    "#print(x)\n",
    "#print(y)"
   ]
  },
  {
   "cell_type": "code",
   "execution_count": null,
   "metadata": {
    "colab": {
     "base_uri": "https://localhost:8080/"
    },
    "id": "tmGyQ3PyVd4T",
    "outputId": "cbc123d9-afbe-4097-8843-579c829fe875"
   },
   "outputs": [],
   "source": [
    "from sklearn.model_selection import KFold\n",
    "\n",
    "kf5 = KFold(n_splits=5, shuffle=True)\n",
    "for train_index, test_index in kf5.split(X):\n",
    "    print(train_index, test_index)\n",
    "    \n"
   ]
  },
  {
   "cell_type": "code",
   "execution_count": null,
   "metadata": {
    "id": "TNq9-fw-xEAO"
   },
   "outputs": [],
   "source": [
    "# divide train and validation\n",
    "from sklearn.model_selection import train_test_split\n",
    "\n",
    "X_train , x_test , y_train, y_test = train_test_split(df_lbp,y, test_size = 0.2 , random_state = 8)\n",
    "#y_train = y_train.resize((1, 1))\n",
    "#print(X_train)"
   ]
  },
  {
   "cell_type": "code",
   "execution_count": null,
   "metadata": {
    "id": "O2PJ5TTWFL33"
   },
   "outputs": [],
   "source": [
    "#svm modelling\n",
    "\n",
    "from sklearn.svm import SVC\n",
    "\n",
    "classifier = SVC(kernel = 'poly', C=2, random_state = 2)\n",
    "classifier.fit(X_train,y_train, sample_weight=None)\n",
    "\n",
    "y_predict = classifier.predict(x_test)\n"
   ]
  },
  {
   "cell_type": "code",
   "execution_count": null,
   "metadata": {
    "colab": {
     "base_uri": "https://localhost:8080/"
    },
    "id": "i7a7-vy1HHfk",
    "outputId": "e69ee4c0-f823-46a5-b3a9-5b530c312c50"
   },
   "outputs": [],
   "source": [
    "#Evaluation\n",
    "\n",
    "from sklearn.metrics import balanced_accuracy_score,classification_report\n",
    "\n",
    "#print(classification_report(y_test,y_predict))\n",
    "print(balanced_accuracy_score)\n",
    "print( 'y_test:  ' , y_test)\n",
    "print( 'y_predict:' ,y_predict)\n",
    "balanced_accuracy_score(y_test, y_predict)"
   ]
  },
  {
   "cell_type": "code",
   "execution_count": null,
   "metadata": {
    "id": "iUBL73mjk53k"
   },
   "outputs": [],
   "source": []
  }
 ],
 "metadata": {
  "colab": {
   "collapsed_sections": [],
   "name": "ISM_phase1.ipynb",
   "provenance": []
  },
  "kernelspec": {
   "display_name": "Python 3 (ipykernel)",
   "language": "python",
   "name": "python3"
  },
  "language_info": {
   "codemirror_mode": {
    "name": "ipython",
    "version": 3
   },
   "file_extension": ".py",
   "mimetype": "text/x-python",
   "name": "python",
   "nbconvert_exporter": "python",
   "pygments_lexer": "ipython3",
   "version": "3.8.15"
  }
 },
 "nbformat": 4,
 "nbformat_minor": 1
}
